{
 "cells": [
  {
   "cell_type": "markdown",
   "metadata": {},
   "source": [
    "# Introduction to Jupyter Notebooks. \n",
    "This is an introduction to Jupyter Notebooks prepared by Jin Hyun Cheogn & Vassiki Chauhan on _2019-08-08_.   \n",
    "Accompanying slides are availabe at https://docs.google.com/presentation/d/1UjAnkKWzqCRq9YHJGBLl3wZFK3zraMs2T3OShu3xt5A/edit?usp=sharing\n",
    "\n",
    "\n",
    "\n",
    "# Jupyter is interactive\n",
    "## Markdown for rich text\n",
    "You can build nested itemized or enumerated lists:\n",
    "\n",
    "* One\n",
    "    - Sublist\n",
    "        - This\n",
    "  - Sublist\n",
    "        - That\n",
    "        - The other thing\n",
    "* Two\n",
    "  - Sublist\n",
    "* Three\n",
    "  - Sublist\n",
    "  \n",
    "### Insert code blocks\n",
    "You can insert code blocks in your narrative by wrapping code in triple backticks ```. \n",
    "```python\n",
    "print(\"Hello Mind!\")\n",
    "```\n",
    "\n",
    "### Insert images \n",
    "You can insert images in your narrative.\n",
    "```\n",
    "<img src=\"assets/MIND_BW_Square.png\" width=\"150px\"/>\n",
    "```\n",
    "<img src=\"assets/MIND_BW_Square.png\" width=\"150px\"/>\n",
    "\n",
    "### Add equations\n",
    "You can add LaTeX equations in your narrative.\n",
    "```\n",
    "$$e^x=\\sum_{i=0}^\\infty \\frac{1}{i!}x^i$$\n",
    "```\n",
    "$$e^x=\\sum_{i=0}^\\infty \\frac{1}{i!}x^i$$"
   ]
  },
  {
   "cell_type": "code",
   "execution_count": 55,
   "metadata": {
    "ExecuteTime": {
     "end_time": "2019-08-08T13:48:19.632573Z",
     "start_time": "2019-08-08T13:48:19.627967Z"
    }
   },
   "outputs": [
    {
     "data": {
      "text/html": [
       "<iframe src=http://mindsummerschool.org/index.html width=700 height=350></iframe>"
      ],
      "text/plain": [
       "<IPython.core.display.HTML object>"
      ]
     },
     "execution_count": 55,
     "metadata": {},
     "output_type": "execute_result"
    }
   ],
   "source": [
    "# Embed a website into a notebook. \n",
    "import IPython\n",
    "url = 'http://mindsummerschool.org/index.html'\n",
    "iframe = '<iframe src=' + url + ' width=700 height=350></iframe>'\n",
    "IPython.display.HTML(iframe)"
   ]
  },
  {
   "cell_type": "code",
   "execution_count": null,
   "metadata": {
    "collapsed": true
   },
   "outputs": [],
   "source": []
  },
  {
   "cell_type": "markdown",
   "metadata": {},
   "source": [
    "# Jupyter is multilingual\n",
    "Jupyter can host and communicate with multiple languages including Julia, Python, R, MATLAB, and many more!   \n",
    "Here are some examples for talking to Python, R, MATLAB, and terminal. \n",
    "\n",
    "\n",
    "For a full list check out https://github.com/jupyter/jupyter/wiki/Jupyter-kernels. \n",
    "\n",
    "## Python"
   ]
  },
  {
   "cell_type": "code",
   "execution_count": 8,
   "metadata": {
    "ExecuteTime": {
     "end_time": "2019-08-08T13:06:29.081869Z",
     "start_time": "2019-08-08T13:06:29.078417Z"
    }
   },
   "outputs": [
    {
     "name": "stdout",
     "output_type": "stream",
     "text": [
      "Hello Mind!\n"
     ]
    }
   ],
   "source": [
    "# This is a Python cell\n",
    "print('Hello Mind!')"
   ]
  },
  {
   "cell_type": "markdown",
   "metadata": {},
   "source": [
    "## R"
   ]
  },
  {
   "cell_type": "code",
   "execution_count": 25,
   "metadata": {
    "ExecuteTime": {
     "end_time": "2019-08-08T13:39:03.066646Z",
     "start_time": "2019-08-08T13:39:02.714396Z"
    }
   },
   "outputs": [],
   "source": [
    "%load_ext rpy2.ipython"
   ]
  },
  {
   "cell_type": "code",
   "execution_count": 26,
   "metadata": {
    "ExecuteTime": {
     "end_time": "2019-08-08T13:39:03.090272Z",
     "start_time": "2019-08-08T13:39:03.068799Z"
    }
   },
   "outputs": [
    {
     "data": {
      "text/plain": [
       "[1] \"Hello Mind from R\"\n"
      ]
     },
     "metadata": {},
     "output_type": "display_data"
    }
   ],
   "source": [
    "%%R \n",
    "# This is an R cell\n",
    "print('Hello Mind from R')"
   ]
  },
  {
   "cell_type": "markdown",
   "metadata": {},
   "source": [
    "### You can also talk to each other"
   ]
  },
  {
   "cell_type": "code",
   "execution_count": 35,
   "metadata": {
    "ExecuteTime": {
     "end_time": "2019-08-08T13:40:24.447511Z",
     "start_time": "2019-08-08T13:40:24.443407Z"
    }
   },
   "outputs": [],
   "source": [
    "# I start out in Python\n",
    "import pandas as pd, numpy as np\n",
    "df = pd.DataFrame({'x': np.random.rand(100), 'y':np.random.rand(100), \n",
    "                   'groups':np.repeat(['a','b','c','d','e'],20)})"
   ]
  },
  {
   "cell_type": "code",
   "execution_count": 68,
   "metadata": {
    "ExecuteTime": {
     "end_time": "2019-08-08T16:04:48.916508Z",
     "start_time": "2019-08-08T16:04:48.740055Z"
    }
   },
   "outputs": [
    {
     "data": {
      "text/plain": [
       "Linear mixed model fit by REML. t-tests use Satterthwaite's method [\n",
       "lmerModLmerTest]\n",
       "Formula: \"y ~ x + (1+x|groups)\"\n",
       "   Data: df\n",
       "\n",
       "REML criterion at convergence: 31\n",
       "\n",
       "Scaled residuals: \n",
       "     Min       1Q   Median       3Q      Max \n",
       "-2.07675 -0.65309  0.00996  0.86687  1.76281 \n",
       "\n",
       "Random effects:\n",
       " Groups   Name        Variance Std.Dev. Corr \n",
       " groups   (Intercept) 0.01069  0.1034        \n",
       "          x           0.01065  0.1032   -1.00\n",
       " Residual             0.07274  0.2697        \n",
       "Number of obs: 100, groups:  groups, 5\n",
       "\n",
       "Fixed effects:\n",
       "            Estimate Std. Error      df t value Pr(>|t|)    \n",
       "(Intercept)   0.6212     0.0682  3.8953   9.108 0.000911 ***\n",
       "x            -0.1832     0.1008  6.7380  -1.817 0.113713    \n",
       "---\n",
       "Signif. codes:  0 ‘***’ 0.001 ‘**’ 0.01 ‘*’ 0.05 ‘.’ 0.1 ‘ ’ 1\n",
       "\n",
       "Correlation of Fixed Effects:\n",
       "  (Intr)\n",
       "x -0.861\n"
      ]
     },
     "metadata": {},
     "output_type": "display_data"
    }
   ],
   "source": [
    "%%R -i df -o resid -o fitted\n",
    "# I'm running stats in R!\n",
    "# I import the dataframe df, run some stats, and export some results as arrays in resid, and fitted.\n",
    "library(\"lmerTest\")\n",
    "m<-lmer('y ~ x + (1+x|groups)', data=df)\n",
    "print(summary(m))\n",
    "resid<-resid(m)\n",
    "fitted<-fitted(m) "
   ]
  },
  {
   "cell_type": "code",
   "execution_count": 67,
   "metadata": {
    "ExecuteTime": {
     "end_time": "2019-08-08T15:24:40.859582Z",
     "start_time": "2019-08-08T15:24:40.725833Z"
    }
   },
   "outputs": [
    {
     "name": "stdout",
     "output_type": "stream",
     "text": [
      "Type: <class 'numpy.ndarray'>, Residuals: [-0.01395469 -0.02852354 -0.07672416] \n"
     ]
    },
    {
     "data": {
      "text/plain": [
       "<matplotlib.collections.PathCollection at 0x126f26c88>"
      ]
     },
     "execution_count": 67,
     "metadata": {},
     "output_type": "execute_result"
    },
    {
     "data": {
      "image/png": "[encoded data removed]",
      "text/plain": [
       "<Figure size 432x288 with 1 Axes>"
      ]
     },
     "metadata": {},
     "output_type": "display_data"
    }
   ],
   "source": [
    "# I'm back to working in Python!\n",
    "print(f\"Type: {type(resid)}, Residuals: {resid[:3]} \")\n",
    "%matplotlib inline\n",
    "import matplotlib.pyplot as plt\n",
    "import seaborn as sns\n",
    "sns.set_style('whitegrid')\n",
    "plt.scatter(fitted,resid)"
   ]
  },
  {
   "cell_type": "markdown",
   "metadata": {},
   "source": [
    "## MATLAB"
   ]
  },
  {
   "cell_type": "code",
   "execution_count": 1,
   "metadata": {
    "ExecuteTime": {
     "end_time": "2019-08-08T13:03:39.640039Z",
     "start_time": "2019-08-08T13:03:31.040023Z"
    }
   },
   "outputs": [
    {
     "name": "stderr",
     "output_type": "stream",
     "text": [
      "/Users/jinhyuncheong/anaconda2/envs/py36/lib/python3.6/site-packages/IPython/nbformat.py:13: ShimWarning: The `IPython.nbformat` package has been deprecated since IPython 4.0. You should import from nbformat instead.\n",
      "  \"You should import from nbformat instead.\", ShimWarning)\n"
     ]
    },
    {
     "name": "stdout",
     "output_type": "stream",
     "text": [
      "Starting MATLAB on ZMQ socket ipc:///tmp/pymatbridge-4b01da86-f5c9-4ae2-8aa6-0927a42cfc28\n",
      "Send 'exit' command to kill the server\n",
      "........MATLAB started and connected!\n"
     ]
    }
   ],
   "source": [
    "%load_ext pymatbridge"
   ]
  },
  {
   "cell_type": "code",
   "execution_count": 13,
   "metadata": {
    "ExecuteTime": {
     "end_time": "2019-08-08T13:30:15.921113Z",
     "start_time": "2019-08-08T13:30:15.105499Z"
    }
   },
   "outputs": [
    {
     "data": {
      "text/plain": [
       "Hello Mind from MATLAB!\n"
      ]
     },
     "metadata": {},
     "output_type": "display_data"
    }
   ],
   "source": [
    "%%matlab\n",
    "% This is a MATLAB cell\n",
    "display('Hello Mind from MATLAB!')"
   ]
  },
  {
   "cell_type": "markdown",
   "metadata": {},
   "source": [
    "## system terminal"
   ]
  },
  {
   "cell_type": "code",
   "execution_count": 57,
   "metadata": {
    "ExecuteTime": {
     "end_time": "2019-08-08T14:05:13.398506Z",
     "start_time": "2019-08-08T14:05:13.373405Z"
    }
   },
   "outputs": [
    {
     "name": "stdout",
     "output_type": "stream",
     "text": [
      "Hello Mind from terminal!\n",
      "total 40\n",
      "drwxr-xr-x  5 jinhyuncheong  staff    160 Aug  8 09:59 .\n",
      "drwxr-xr-x  3 jinhyuncheong  staff     96 Aug  8 08:49 ..\n",
      "drwxr-xr-x  3 jinhyuncheong  staff     96 Aug  8 09:13 .ipynb_checkpoints\n",
      "-rw-r--r--  1 jinhyuncheong  staff  18845 Aug  8 09:59 JupyterDemo.ipynb\n",
      "drwxr-xr-x@ 3 jinhyuncheong  staff     96 Aug  8 09:19 assets\n"
     ]
    }
   ],
   "source": [
    "%%bash\n",
    "# This is a bash terminal\n",
    "echo \"Hello Mind from terminal!\"\n",
    "ls -al"
   ]
  },
  {
   "cell_type": "code",
   "execution_count": 59,
   "metadata": {
    "ExecuteTime": {
     "end_time": "2019-08-08T14:05:56.317400Z",
     "start_time": "2019-08-08T14:05:56.065929Z"
    }
   },
   "outputs": [
    {
     "name": "stdout",
     "output_type": "stream",
     "text": [
      "Hello Mind from terminal!\n",
      "total 40\n",
      "drwxr-xr-x  5 jinhyuncheong  staff    160 Aug  8 10:05 \u001b[1m\u001b[36m.\u001b[m\u001b[m\n",
      "drwxr-xr-x  3 jinhyuncheong  staff     96 Aug  8 08:49 \u001b[1m\u001b[36m..\u001b[m\u001b[m\n",
      "drwxr-xr-x  3 jinhyuncheong  staff     96 Aug  8 09:13 \u001b[1m\u001b[36m.ipynb_checkpoints\u001b[m\u001b[m\n",
      "-rw-r--r--  1 jinhyuncheong  staff  18694 Aug  8 10:05 JupyterDemo.ipynb\n",
      "drwxr-xr-x@ 3 jinhyuncheong  staff     96 Aug  8 09:19 \u001b[1m\u001b[36massets\u001b[m\u001b[m\n"
     ]
    }
   ],
   "source": [
    "# The bang ! also communicates with the bash terminal \n",
    "!echo \"Hello Mind from terminal!\"\n",
    "!ls -al"
   ]
  },
  {
   "cell_type": "markdown",
   "metadata": {},
   "source": [
    "# Example of interactive plots"
   ]
  },
  {
   "cell_type": "code",
   "execution_count": 66,
   "metadata": {
    "ExecuteTime": {
     "end_time": "2019-08-08T15:24:30.507734Z",
     "start_time": "2019-08-08T15:24:30.502978Z"
    }
   },
   "outputs": [
    {
     "data": {
      "text/html": [
       "\n",
       "        <iframe\n",
       "            width=\"900\"\n",
       "            height=\"500\"\n",
       "            src=\"https://demo.bokeh.org/sliders\"\n",
       "            frameborder=\"0\"\n",
       "            allowfullscreen\n",
       "        ></iframe>\n",
       "        "
      ],
      "text/plain": [
       "<IPython.lib.display.IFrame at 0x126dec320>"
      ]
     },
     "execution_count": 66,
     "metadata": {},
     "output_type": "execute_result"
    }
   ],
   "source": [
    "# Create and deploy interactive data applications\n",
    "\n",
    "from IPython.display import IFrame\n",
    "IFrame('https://demo.bokeh.org/sliders', width=900, height=500)"
   ]
  }
 ],
 "metadata": {
  "@webio": {
   "lastCommId": null,
   "lastKernelId": null
  },
  "kernelspec": {
   "display_name": "Python 3",
   "language": "python",
   "name": "python3"
  },
  "language_info": {
   "codemirror_mode": {
    "name": "ipython",
    "version": 3
   },
   "file_extension": ".py",
   "mimetype": "text/x-python",
   "name": "python",
   "nbconvert_exporter": "python",
   "pygments_lexer": "ipython3",
   "version": "3.6.5"
  },
  "toc": {
   "nav_menu": {
    "height": "175px",
    "width": "250px"
   },
   "navigate_menu": true,
   "number_sections": true,
   "sideBar": true,
   "threshold": 4,
   "toc_cell": false,
   "toc_section_display": "block",
   "toc_window_display": false
  }
 },
 "nbformat": 4,
 "nbformat_minor": 2
}
